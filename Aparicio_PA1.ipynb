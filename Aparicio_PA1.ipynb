{
 "cells": [
  {
   "cell_type": "markdown",
   "id": "6256a0d0-d794-41c0-86cf-a302f96f4fe5",
   "metadata": {},
   "source": [
    "# Programming Assessment 1 - Base Computing"
   ]
  },
  {
   "cell_type": "markdown",
   "id": "c798cb8a-f0fb-4b79-a834-43902d66b0fd",
   "metadata": {},
   "source": [
    "##### ALPHABET SOUP PROBLEM"
   ]
  },
  {
   "cell_type": "code",
   "execution_count": 98,
   "id": "2ebac3e9-97ed-43c1-9b67-75c5e9e546f1",
   "metadata": {},
   "outputs": [
    {
     "name": "stdout",
     "output_type": "stream",
     "text": [
      "ehllo\n"
     ]
    }
   ],
   "source": [
    "def alphabet_soup(s):\n",
    "    return ''.join(sorted(s))\n",
    "\n",
    "print(alphabet_soup(\"hello\")) "
   ]
  },
  {
   "cell_type": "markdown",
   "id": "ba73fe6a-aa89-4365-80af-1fd6e8afa118",
   "metadata": {},
   "source": [
    "##### EMOTICON PROBLEM"
   ]
  },
  {
   "cell_type": "code",
   "execution_count": 115,
   "id": "11a05d9e-6486-4652-b67a-1549c6c8591b",
   "metadata": {},
   "outputs": [
    {
     "name": "stdout",
     "output_type": "stream",
     "text": [
      "Make me :)\n",
      "I am >:(\n"
     ]
    }
   ],
   "source": [
    "def emotify(sentence):\n",
    "    emoticon = {\"smile\": \":)\", \"grin\": \":D\", \"sad\": \":((\", \"mad\": \">:(\"}\n",
    "    words = sentence.split()\n",
    "    replaced_words = [emoticon.get(word.lower(), word) for word in words]\n",
    "    return \" \".join(replaced_words)\n",
    "\n",
    "print(emotify(\"Make me smile\"))\n",
    "print(emotify(\"I am mad\"))   "
   ]
  },
  {
   "cell_type": "markdown",
   "id": "ac458323-2dcd-46e7-882e-52e91cb61886",
   "metadata": {},
   "source": [
    "##### UNPACKING LIST PROBLEM"
   ]
  },
  {
   "cell_type": "code",
   "execution_count": 108,
   "id": "403a00e6-ab51-4ef6-9952-cb4d0dc9818f",
   "metadata": {},
   "outputs": [
    {
     "name": "stdout",
     "output_type": "stream",
     "text": [
      "first: 1          middle: [2, 3, 4, 5]          last: 6\n"
     ]
    }
   ],
   "source": [
    "writeyourcodehere = [1, 2, 3, 4, 5, 6]\n",
    "\n",
    "first = writeyourcodehere[0]\n",
    "middle = writeyourcodehere[1:-1]\n",
    "last = writeyourcodehere[-1]\n",
    "\n",
    "print(\"first:\", first, \"         middle:\", middle, \"         last:\", last)"
   ]
  },
  {
   "cell_type": "code",
   "execution_count": null,
   "id": "1e3a609d-c72f-4445-93e3-274f5ac64034",
   "metadata": {},
   "outputs": [],
   "source": []
  }
 ],
 "metadata": {
  "kernelspec": {
   "display_name": "Python 3 (ipykernel)",
   "language": "python",
   "name": "python3"
  },
  "language_info": {
   "codemirror_mode": {
    "name": "ipython",
    "version": 3
   },
   "file_extension": ".py",
   "mimetype": "text/x-python",
   "name": "python",
   "nbconvert_exporter": "python",
   "pygments_lexer": "ipython3",
   "version": "3.12.4"
  }
 },
 "nbformat": 4,
 "nbformat_minor": 5
}
