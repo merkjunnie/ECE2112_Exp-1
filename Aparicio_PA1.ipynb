{
 "cells": [
  {
   "cell_type": "markdown",
   "id": "4d521abd-df43-41e1-9d94-87a6390e1ec8",
   "metadata": {},
   "source": [
    "# Programming Assessment 1 \n",
    "## *Introduction to Python Programming*"
   ]
  },
  {
   "cell_type": "markdown",
   "id": "c798cb8a-f0fb-4b79-a834-43902d66b0fd",
   "metadata": {},
   "source": [
    "##### ALPHABET SOUP PROBLEM"
   ]
  },
  {
   "cell_type": "code",
   "execution_count": 133,
   "id": "2ebac3e9-97ed-43c1-9b67-75c5e9e546f1",
   "metadata": {},
   "outputs": [
    {
     "name": "stdout",
     "output_type": "stream",
     "text": [
      "ehllo\n"
     ]
    }
   ],
   "source": [
    "def alphabet_soup(s):\n",
    "    \n",
    "    # Sort the inputted characters alphabetically in ascending order then recombine it into a single string\n",
    "    return ''.join(sorted(s))\n",
    "\n",
    "print(alphabet_soup(\"hello\")) "
   ]
  },
  {
   "cell_type": "markdown",
   "id": "ba73fe6a-aa89-4365-80af-1fd6e8afa118",
   "metadata": {},
   "source": [
    "##### EMOTICON PROBLEM"
   ]
  },
  {
   "cell_type": "code",
   "execution_count": 142,
   "id": "11a05d9e-6486-4652-b67a-1549c6c8591b",
   "metadata": {},
   "outputs": [
    {
     "name": "stdout",
     "output_type": "stream",
     "text": [
      "Make me :)\n",
      "I am >:(\n"
     ]
    }
   ],
   "source": [
    "def emotify(sentence):\n",
    "    \n",
    "    # Emoticons Dictionary\n",
    "    emoticons = {\"smile\": \":)\", \"grin\": \":D\", \"sad\": \":((\", \"mad\": \">:(\"}\n",
    "\n",
    "    # Split the sentence into words\n",
    "    words = sentence.split()\n",
    "\n",
    "    # Replace words with their corresponding emoticons if they exist in the dictionary\n",
    "    replaced_words = [emoticons.get(word.lower(), word) for word in words]\n",
    "\n",
    "    # Join the words back into a sentence\n",
    "    return \" \".join(replaced_words)\n",
    "\n",
    "print(emotify(\"Make me smile\"))\n",
    "print(emotify(\"I am mad\"))   "
   ]
  },
  {
   "cell_type": "markdown",
   "id": "ac458323-2dcd-46e7-882e-52e91cb61886",
   "metadata": {},
   "source": [
    "##### UNPACKING LIST PROBLEM"
   ]
  },
  {
   "cell_type": "code",
   "execution_count": 135,
   "id": "403a00e6-ab51-4ef6-9952-cb4d0dc9818f",
   "metadata": {},
   "outputs": [
    {
     "name": "stdout",
     "output_type": "stream",
     "text": [
      "first: 1          middle: [2, 3, 4, 5]          last: 6\n"
     ]
    }
   ],
   "source": [
    "# Let the user input elements\n",
    "writeyourcodehere = [1, 2, 3, 4, 5, 6]\n",
    "\n",
    "# First element is accessed\n",
    "first = writeyourcodehere[0]\n",
    "\n",
    "# Separates the first and last element through slicing\n",
    "middle = writeyourcodehere[1:-1]\n",
    "\n",
    "# Last element is accessed\n",
    "last = writeyourcodehere[-1]\n",
    "\n",
    "print(\"first:\", first, \"         middle:\", middle, \"         last:\", last)"
   ]
  },
  {
   "cell_type": "code",
   "execution_count": null,
   "id": "1e3a609d-c72f-4445-93e3-274f5ac64034",
   "metadata": {},
   "outputs": [],
   "source": []
  }
 ],
 "metadata": {
  "kernelspec": {
   "display_name": "Python 3 (ipykernel)",
   "language": "python",
   "name": "python3"
  },
  "language_info": {
   "codemirror_mode": {
    "name": "ipython",
    "version": 3
   },
   "file_extension": ".py",
   "mimetype": "text/x-python",
   "name": "python",
   "nbconvert_exporter": "python",
   "pygments_lexer": "ipython3",
   "version": "3.12.4"
  }
 },
 "nbformat": 4,
 "nbformat_minor": 5
}
